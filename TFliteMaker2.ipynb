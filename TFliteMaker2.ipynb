{
  "nbformat": 4,
  "nbformat_minor": 0,
  "metadata": {
    "colab": {
      "name": "TFliteMaker2",
      "provenance": [],
      "authorship_tag": "ABX9TyNppKMEBYzlZbshFDRuNiKB",
      "include_colab_link": true
    },
    "kernelspec": {
      "name": "python3",
      "display_name": "Python 3"
    },
    "language_info": {
      "name": "python"
    }
  },
  "cells": [
    {
      "cell_type": "markdown",
      "metadata": {
        "id": "view-in-github",
        "colab_type": "text"
      },
      "source": [
        "<a href=\"https://colab.research.google.com/github/elmho01/DD1-Project/blob/main/TFliteMaker2.ipynb\" target=\"_parent\"><img src=\"https://colab.research.google.com/assets/colab-badge.svg\" alt=\"Open In Colab\"/></a>"
      ]
    },
    {
      "cell_type": "code",
      "execution_count": null,
      "metadata": {
        "colab": {
          "base_uri": "https://localhost:8080/"
        },
        "id": "vTgFpTFksDJo",
        "outputId": "9046fa8f-9617-4460-e0c3-3c66252e744e"
      },
      "outputs": [
        {
          "output_type": "stream",
          "name": "stdout",
          "text": [
            "  Attempting uninstall: numba\n",
            "    Found existing installation: numba 0.51.2\n",
            "    Uninstalling numba-0.51.2:\n",
            "      Successfully uninstalled numba-0.51.2\n",
            "  Attempting uninstall: flatbuffers\n",
            "    Found existing installation: flatbuffers 2.0\n",
            "    Uninstalling flatbuffers-2.0:\n",
            "      Successfully uninstalled flatbuffers-2.0\n",
            "  Attempting uninstall: PyYAML\n",
            "    Found existing installation: PyYAML 3.13\n",
            "    Uninstalling PyYAML-3.13:\n",
            "      Successfully uninstalled PyYAML-3.13\n",
            "  Attempting uninstall: lxml\n",
            "    Found existing installation: lxml 4.2.6\n",
            "    Uninstalling lxml-4.2.6:\n",
            "      Successfully uninstalled lxml-4.2.6\n",
            "Successfully installed PyYAML-6.0 dataclasses-0.6 fire-0.4.0 flatbuffers-1.12 llvmlite-0.36.0 lxml-4.8.0 neural-structured-learning-1.3.1 numba-0.53.0 opencv-python-headless-4.5.5.62 py-cpuinfo-8.0.0 pybind11-2.9.1 sentencepiece-0.1.96 tensorflow-addons-0.16.1 tensorflow-model-optimization-0.7.1 tf-estimator-nightly-2.8.0.dev2021122109 tf-models-official-2.3.0 tf-slim-1.1.0 tfa-nightly-0.17.0.dev20220308184041 tflite-model-maker-nightly-0.3.5.dev202203080608 tflite-support-0.3.1\n"
          ]
        }
      ],
      "source": [
        "!pip install tflite-model-maker-nightly"
      ]
    },
    {
      "cell_type": "code",
      "source": [
        "import os\n",
        "\n",
        "import numpy as np\n",
        "\n",
        "import tensorflow as tf\n",
        "assert tf.__version__.startswith('2')\n",
        "\n",
        "from tflite_model_maker import model_spec\n",
        "from tflite_model_maker import image_classifier\n",
        "from tflite_model_maker.config import ExportFormat\n",
        "from tflite_model_maker.config import QuantizationConfig\n",
        "from tflite_model_maker.image_classifier import DataLoader\n",
        "\n",
        "import matplotlib.pyplot as plt"
      ],
      "metadata": {
        "id": "5-B023QEsVHX"
      },
      "execution_count": null,
      "outputs": []
    },
    {
      "cell_type": "code",
      "source": [
        "data = DataLoader.from_folder('sample_data')\n",
        "train_data, test_data = data.split(0.9)\n",
        "\n",
        "model = image_classifier.create(train_data, batch_size=1)\n",
        "\n",
        "loss, accuracy = model.evaluate(test_data)\n",
        "\n",
        "model.export('.')"
      ],
      "metadata": {
        "colab": {
          "base_uri": "https://localhost:8080/"
        },
        "id": "VdsxtjWDsieD",
        "outputId": "008b703b-6667-4f24-f064-6088f8a855bf"
      },
      "execution_count": null,
      "outputs": [
        {
          "output_type": "stream",
          "name": "stdout",
          "text": [
            "INFO:tensorflow:Load image with size: 3, num_label: 4, labels: .ipynb_checkpoints, Curry, Lebron, Rock.\n",
            "INFO:tensorflow:Retraining the models...\n",
            "Model: \"sequential\"\n",
            "_________________________________________________________________\n",
            " Layer (type)                Output Shape              Param #   \n",
            "=================================================================\n",
            " hub_keras_layer_v1v2 (HubKe  (None, 1280)             3413024   \n",
            " rasLayerV1V2)                                                   \n",
            "                                                                 \n",
            " dropout (Dropout)           (None, 1280)              0         \n",
            "                                                                 \n",
            " dense (Dense)               (None, 4)                 5124      \n",
            "                                                                 \n",
            "=================================================================\n",
            "Total params: 3,418,148\n",
            "Trainable params: 5,124\n",
            "Non-trainable params: 3,413,024\n",
            "_________________________________________________________________\n",
            "None\n",
            "Epoch 1/5\n"
          ]
        },
        {
          "output_type": "stream",
          "name": "stderr",
          "text": [
            "/usr/local/lib/python3.7/dist-packages/keras/optimizer_v2/gradient_descent.py:102: UserWarning: The `lr` argument is deprecated, use `learning_rate` instead.\n",
            "  super(SGD, self).__init__(name, **kwargs)\n"
          ]
        },
        {
          "output_type": "stream",
          "name": "stdout",
          "text": [
            "2/2 [==============================] - 3s 456ms/step - loss: 1.3969 - accuracy: 0.5000\n",
            "Epoch 2/5\n",
            "2/2 [==============================] - 1s 541ms/step - loss: 0.6490 - accuracy: 1.0000\n",
            "Epoch 3/5\n",
            "2/2 [==============================] - 1s 498ms/step - loss: 0.4055 - accuracy: 1.0000\n",
            "Epoch 4/5\n",
            "2/2 [==============================] - 1s 498ms/step - loss: 0.3943 - accuracy: 1.0000\n",
            "Epoch 5/5\n",
            "2/2 [==============================] - 1s 469ms/step - loss: 0.4858 - accuracy: 1.0000\n",
            "1/1 [==============================] - 1s 717ms/step - loss: 5.2300 - accuracy: 0.0000e+00\n",
            "INFO:tensorflow:Assets written to: /tmp/tmp8zwv6lhg/assets\n"
          ]
        },
        {
          "output_type": "stream",
          "name": "stderr",
          "text": [
            "INFO:tensorflow:Assets written to: /tmp/tmp8zwv6lhg/assets\n",
            "/usr/local/lib/python3.7/dist-packages/tensorflow/lite/python/convert.py:746: UserWarning: Statistics for quantized inputs were expected, but not specified; continuing anyway.\n",
            "  warnings.warn(\"Statistics for quantized inputs were expected, but not \"\n"
          ]
        },
        {
          "output_type": "stream",
          "name": "stdout",
          "text": [
            "INFO:tensorflow:Label file is inside the TFLite model with metadata.\n"
          ]
        },
        {
          "output_type": "stream",
          "name": "stderr",
          "text": [
            "INFO:tensorflow:Label file is inside the TFLite model with metadata.\n"
          ]
        },
        {
          "output_type": "stream",
          "name": "stdout",
          "text": [
            "INFO:tensorflow:Saving labels in /tmp/tmpfxox22dg/labels.txt\n"
          ]
        },
        {
          "output_type": "stream",
          "name": "stderr",
          "text": [
            "INFO:tensorflow:Saving labels in /tmp/tmpfxox22dg/labels.txt\n"
          ]
        },
        {
          "output_type": "stream",
          "name": "stdout",
          "text": [
            "INFO:tensorflow:TensorFlow Lite model exported successfully: ./model.tflite\n"
          ]
        },
        {
          "output_type": "stream",
          "name": "stderr",
          "text": [
            "INFO:tensorflow:TensorFlow Lite model exported successfully: ./model.tflite\n"
          ]
        }
      ]
    }
  ]
}